{
 "cells": [
  {
   "cell_type": "markdown",
   "metadata": {},
   "source": [
    "# WeatherPy\n",
    "----\n",
    "\n",
    "#### Note\n",
    "* Instructions have been included for each segment. You do not have to follow them exactly, but they are included to help you think through the steps."
   ]
  },
  {
   "cell_type": "code",
   "execution_count": 107,
   "metadata": {
    "scrolled": true
   },
   "outputs": [],
   "source": [
    "# Dependencies and Setup\n",
    "import matplotlib.pyplot as plt\n",
    "import pandas as pd\n",
    "import numpy as np\n",
    "import requests\n",
    "import time\n",
    "from scipy.stats import linregress\n",
    "import pprint\n",
    "import json\n",
    "\n",
    "\n",
    "\n",
    "# Import API key\n",
    "from api_keys import weather_api_key\n",
    "\n",
    "# Incorporated citipy to determine city based on latitude and longitude\n",
    "from citipy import citipy\n",
    "\n",
    "# Output File (CSV)\n",
    "output_data_file = \"output_data/cities.csv\"\n",
    "\n",
    "# Range of latitudes and longitudes\n",
    "lat_range = (-90, 90)\n",
    "lng_range = (-180, 180)"
   ]
  },
  {
   "cell_type": "markdown",
   "metadata": {},
   "source": [
    "## Generate Cities List"
   ]
  },
  {
   "cell_type": "code",
   "execution_count": 5,
   "metadata": {},
   "outputs": [
    {
     "data": {
      "text/plain": [
       "609"
      ]
     },
     "execution_count": 5,
     "metadata": {},
     "output_type": "execute_result"
    }
   ],
   "source": [
    "# List for holding lat_lngs and cities\n",
    "lat_lngs = []\n",
    "cities = []\n",
    "\n",
    "# Create a set of random lat and lng combinations\n",
    "lats = np.random.uniform(lat_range[0], lat_range[1], size=1500)\n",
    "lngs = np.random.uniform(lng_range[0], lng_range[1], size=1500)\n",
    "lat_lngs = zip(lats, lngs)\n",
    "\n",
    "# Identify nearest city for each lat, lng combination\n",
    "for lat_lng in lat_lngs:\n",
    "    city = citipy.nearest_city(lat_lng[0], lat_lng[1]).city_name\n",
    "    \n",
    "    # If the city is unique, then add it to a our cities list\n",
    "    if city not in cities:\n",
    "        cities.append(city)\n",
    "\n",
    "# Print the city count to confirm sufficient count\n",
    "len(cities)"
   ]
  },
  {
   "cell_type": "markdown",
   "metadata": {},
   "source": [
    "### Perform API Calls\n",
    "* Perform a weather check on each city using a series of successive API calls.\n",
    "* Include a print log of each city as it'sbeing processed (with the city number and city name).\n"
   ]
  },
  {
   "cell_type": "code",
   "execution_count": 73,
   "metadata": {},
   "outputs": [
    {
     "name": "stdout",
     "output_type": "stream",
     "text": [
      "Beginning Data Retrieval     \n",
      "-----------------------------\n",
      "Processing Record 1 of set 1 | carnarvon \n",
      "Processing Record 2 of set 1 | upernavik \n",
      "Processing Record 3 of set 1 | zyryanka \n",
      "Processing Record 4 of set 1 | severo-kurilsk \n",
      "Processing Record 5 of set 1 | cape town \n",
      "Processing Record 6 of set 1 | faya \n",
      "Processing Record 7 of set 1 | dunedin \n",
      "Processing Record 8 of set 1 | albany \n",
      "Processing Record 9 of set 1 | ukiah \n",
      "Processing Record 10 of set 1 | yarada \n",
      "Processing Record 11 of set 1 | botwood \n",
      "Processing Record 12 of set 1 | oranjemund \n",
      "Processing Record 13 of set 1 | vaini \n",
      "Processing Record 14 of set 1 | san cristobal \n",
      "Processing Record 15 of set 1 | khorinsk \n",
      "Processing Record 16 of set 1 | rikitea \n",
      "Processing Record 17 of set 1 | new norfolk \n",
      "Processing Record 18 of set 1 | ancud \n",
      "Processing Record 19 of set 1 | hofn \n",
      "Processing Record 20 of set 1 | kaitangata \n",
      "Processing Record 21 of set 1 | bereda \n",
      "Processing Record 22 of set 1 | loiza \n",
      "Processing Record 23 of set 1 | husavik \n",
      "Processing Record 24 of set 1 | esperance \n",
      "Processing Record 25 of set 1 | porto santo \n",
      "Processing Record 26 of set 1 | castro \n",
      "Processing Record 27 of set 1 | lumding \n",
      "Processing Record 28 of set 1 | nizhneyansk \n",
      "City not found. Skipping...\n",
      "Processing Record 29 of set 1 | tuktoyaktuk \n",
      "Processing Record 30 of set 1 | pangnirtung \n",
      "Processing Record 31 of set 1 | butaritari \n",
      "Processing Record 32 of set 1 | mar del plata \n",
      "Processing Record 33 of set 1 | ushuaia \n",
      "Processing Record 34 of set 1 | barentsburg \n",
      "City not found. Skipping...\n",
      "Processing Record 35 of set 1 | kaeo \n",
      "Processing Record 36 of set 1 | port alfred \n",
      "Processing Record 37 of set 1 | douala \n",
      "Processing Record 38 of set 1 | taolanaro \n",
      "City not found. Skipping...\n",
      "Processing Record 39 of set 1 | gold coast \n",
      "Processing Record 40 of set 1 | yellowknife \n",
      "Processing Record 41 of set 1 | coihaique \n",
      "Processing Record 42 of set 1 | amapa \n",
      "Processing Record 43 of set 1 | ketchikan \n",
      "Processing Record 44 of set 1 | sembakung \n",
      "Processing Record 45 of set 1 | jamestown \n",
      "Processing Record 46 of set 1 | puerto ayora \n",
      "Processing Record 47 of set 1 | bathsheba \n",
      "Processing Record 48 of set 1 | dubenskiy \n",
      "City not found. Skipping...\n",
      "Processing Record 49 of set 1 | ribeira grande \n",
      "Processing Record 50 of set 1 | illoqqortoormiut \n",
      "City not found. Skipping...\n",
      "Processing Record 0 of set 2 | xadani \n",
      "City not found. Skipping...\n",
      "Processing Record 1 of set 2 | puerto escondido \n",
      "Processing Record 2 of set 2 | kamenskoye \n",
      "City not found. Skipping...\n",
      "Processing Record 3 of set 2 | chuhar kana \n",
      "Processing Record 4 of set 2 | east london \n",
      "Processing Record 5 of set 2 | busselton \n",
      "Processing Record 6 of set 2 | komsomolskiy \n",
      "Processing Record 7 of set 2 | dinsor \n",
      "City not found. Skipping...\n",
      "Processing Record 8 of set 2 | mehran \n",
      "Processing Record 9 of set 2 | punta arenas \n",
      "Processing Record 10 of set 2 | cherskiy \n",
      "Processing Record 11 of set 2 | mataura \n",
      "Processing Record 12 of set 2 | katsuura \n",
      "Processing Record 13 of set 2 | pisco \n",
      "Processing Record 14 of set 2 | sawtell \n",
      "Processing Record 15 of set 2 | verkhniy avzyan \n",
      "Processing Record 16 of set 2 | srednekolymsk \n",
      "Processing Record 17 of set 2 | katangli \n",
      "Processing Record 18 of set 2 | brae \n",
      "Processing Record 19 of set 2 | luderitz \n",
      "Processing Record 20 of set 2 | curup \n",
      "Processing Record 21 of set 2 | jiuquan \n",
      "Processing Record 22 of set 2 | avarua \n",
      "Processing Record 23 of set 2 | belfast \n",
      "Processing Record 24 of set 2 | kapaa \n",
      "Processing Record 25 of set 2 | port augusta \n",
      "Processing Record 26 of set 2 | saint-georges \n",
      "Processing Record 27 of set 2 | touros \n",
      "Processing Record 28 of set 2 | vardo \n",
      "Processing Record 29 of set 2 | macae \n",
      "Processing Record 30 of set 2 | ati \n",
      "Processing Record 31 of set 2 | otane \n",
      "Processing Record 32 of set 2 | bredasdorp \n",
      "Processing Record 33 of set 2 | chapais \n",
      "Processing Record 34 of set 2 | tasiilaq \n",
      "Processing Record 35 of set 2 | victoria \n",
      "Processing Record 36 of set 2 | sorong \n",
      "Processing Record 37 of set 2 | thompson \n",
      "Processing Record 38 of set 2 | hobart \n",
      "Processing Record 39 of set 2 | gao \n",
      "Processing Record 40 of set 2 | saint-philippe \n",
      "Processing Record 41 of set 2 | sentyabrskiy \n",
      "City not found. Skipping...\n",
      "Processing Record 42 of set 2 | gondar \n",
      "Processing Record 43 of set 2 | saskylakh \n",
      "Processing Record 44 of set 2 | nuuk \n",
      "Processing Record 45 of set 2 | fairmont \n",
      "Processing Record 46 of set 2 | arlit \n",
      "Processing Record 47 of set 2 | montenegro \n",
      "Processing Record 48 of set 2 | korla \n",
      "Processing Record 49 of set 2 | hermanus \n",
      "Processing Record 0 of set 3 | leh \n",
      "Processing Record 1 of set 3 | marabba \n",
      "Processing Record 2 of set 3 | isangel \n",
      "Processing Record 3 of set 3 | kazachinskoye \n",
      "Processing Record 4 of set 3 | torbay \n",
      "Processing Record 5 of set 3 | sept-iles \n",
      "Processing Record 6 of set 3 | umzimvubu \n",
      "City not found. Skipping...\n",
      "Processing Record 7 of set 3 | saryg-sep \n",
      "Processing Record 8 of set 3 | giyani \n",
      "Processing Record 9 of set 3 | kahului \n",
      "Processing Record 10 of set 3 | kodiak \n",
      "Processing Record 11 of set 3 | kipushi \n",
      "Processing Record 12 of set 3 | ust-nera \n",
      "Processing Record 13 of set 3 | nikolskoye \n",
      "Processing Record 14 of set 3 | bentonville \n",
      "Processing Record 15 of set 3 | saint george \n",
      "Processing Record 16 of set 3 | fare \n",
      "Processing Record 17 of set 3 | charcas \n",
      "Processing Record 18 of set 3 | rudiskes \n",
      "Processing Record 19 of set 3 | tuatapere \n",
      "Processing Record 20 of set 3 | kabo \n",
      "Processing Record 21 of set 3 | flin flon \n",
      "Processing Record 22 of set 3 | dingle \n",
      "Processing Record 23 of set 3 | tulsipur \n",
      "Processing Record 24 of set 3 | luwuk \n",
      "Processing Record 25 of set 3 | mehamn \n",
      "Processing Record 26 of set 3 | aykhal \n",
      "Processing Record 27 of set 3 | georgetown \n",
      "Processing Record 28 of set 3 | lensk \n",
      "Processing Record 29 of set 3 | provideniya \n",
      "Processing Record 30 of set 3 | nhulunbuy \n",
      "Processing Record 31 of set 3 | port elizabeth \n",
      "Processing Record 32 of set 3 | correntina \n",
      "Processing Record 33 of set 3 | manta \n",
      "Processing Record 34 of set 3 | koslan \n",
      "Processing Record 35 of set 3 | grindavik \n",
      "Processing Record 36 of set 3 | verkhneyarkeyevo \n",
      "Processing Record 37 of set 3 | urla \n",
      "Processing Record 38 of set 3 | smithers \n",
      "Processing Record 39 of set 3 | nadym \n",
      "Processing Record 40 of set 3 | souillac \n",
      "Processing Record 41 of set 3 | aborlan \n",
      "Processing Record 42 of set 3 | makat \n",
      "Processing Record 43 of set 3 | cabo rojo \n",
      "Processing Record 44 of set 3 | clarence town \n",
      "Processing Record 45 of set 3 | teya \n",
      "Processing Record 46 of set 3 | thanh hoa \n",
      "Processing Record 47 of set 3 | berlevag \n",
      "Processing Record 48 of set 3 | kilimatinde \n",
      "Processing Record 49 of set 3 | nome \n",
      "Processing Record 0 of set 4 | tabiauea \n",
      "City not found. Skipping...\n",
      "Processing Record 1 of set 4 | clyde river \n",
      "Processing Record 2 of set 4 | mys shmidta \n",
      "City not found. Skipping...\n",
      "Processing Record 3 of set 4 | bethel \n",
      "Processing Record 4 of set 4 | barrow \n",
      "Processing Record 5 of set 4 | buala \n",
      "Processing Record 6 of set 4 | grand river south east \n",
      "City not found. Skipping...\n",
      "Processing Record 7 of set 4 | qaqortoq \n",
      "Processing Record 8 of set 4 | kazalinsk \n",
      "City not found. Skipping...\n",
      "Processing Record 9 of set 4 | half moon bay \n",
      "Processing Record 10 of set 4 | ternate \n",
      "Processing Record 11 of set 4 | yarensk \n",
      "Processing Record 12 of set 4 | padang \n",
      "Processing Record 13 of set 4 | iqaluit \n",
      "Processing Record 14 of set 4 | sinnamary \n",
      "Processing Record 15 of set 4 | salalah \n",
      "Processing Record 16 of set 4 | narsaq \n",
      "Processing Record 17 of set 4 | belushya guba \n",
      "City not found. Skipping...\n",
      "Processing Record 18 of set 4 | tiksi \n",
      "Processing Record 19 of set 4 | rawson \n",
      "Processing Record 20 of set 4 | eureka \n",
      "Processing Record 21 of set 4 | sao filipe \n",
      "Processing Record 22 of set 4 | bluff \n",
      "Processing Record 23 of set 4 | vaitupu \n",
      "City not found. Skipping...\n",
      "Processing Record 24 of set 4 | codrington \n",
      "Processing Record 25 of set 4 | amderma \n",
      "City not found. Skipping...\n",
      "Processing Record 26 of set 4 | maceio \n",
      "Processing Record 27 of set 4 | rungata \n",
      "City not found. Skipping...\n",
      "Processing Record 28 of set 4 | bolungarvik \n",
      "City not found. Skipping...\n",
      "Processing Record 29 of set 4 | jalingo \n",
      "Processing Record 30 of set 4 | santa ana \n",
      "Processing Record 31 of set 4 | maun \n"
     ]
    },
    {
     "name": "stdout",
     "output_type": "stream",
     "text": [
      "Processing Record 32 of set 4 | malaya purga \n",
      "Processing Record 33 of set 4 | qaanaaq \n",
      "Processing Record 34 of set 4 | ranfurly \n",
      "Processing Record 35 of set 4 | longyearbyen \n",
      "Processing Record 36 of set 4 | belmonte \n",
      "Processing Record 37 of set 4 | bandarbeyla \n",
      "Processing Record 38 of set 4 | laguna \n",
      "Processing Record 39 of set 4 | meulaboh \n",
      "Processing Record 40 of set 4 | porto belo \n",
      "Processing Record 41 of set 4 | skibbereen \n",
      "Processing Record 42 of set 4 | talnakh \n",
      "Processing Record 43 of set 4 | anshun \n",
      "Processing Record 44 of set 4 | los llanos de aridane \n",
      "Processing Record 45 of set 4 | labutta \n",
      "City not found. Skipping...\n",
      "Processing Record 46 of set 4 | vila \n",
      "Processing Record 47 of set 4 | dikson \n",
      "Processing Record 48 of set 4 | ulaangom \n",
      "Processing Record 49 of set 4 | khatanga \n",
      "Processing Record 0 of set 5 | champerico \n",
      "Processing Record 1 of set 5 | hasaki \n",
      "Processing Record 2 of set 5 | nueva loja \n",
      "Processing Record 3 of set 5 | jinchang \n",
      "Processing Record 4 of set 5 | alofi \n",
      "Processing Record 5 of set 5 | evensk \n",
      "Processing Record 6 of set 5 | fengzhen \n",
      "Processing Record 7 of set 5 | ilulissat \n",
      "Processing Record 8 of set 5 | chunoyar \n",
      "Processing Record 9 of set 5 | zhezkazgan \n",
      "Processing Record 10 of set 5 | cabo san lucas \n",
      "Processing Record 11 of set 5 | sitka \n",
      "Processing Record 12 of set 5 | saleaula \n",
      "City not found. Skipping...\n",
      "Processing Record 13 of set 5 | tambun \n",
      "Processing Record 14 of set 5 | labuhan \n",
      "Processing Record 15 of set 5 | kharp \n",
      "Processing Record 16 of set 5 | lat yao \n",
      "Processing Record 17 of set 5 | lata \n",
      "Processing Record 18 of set 5 | kropotkin \n",
      "Processing Record 19 of set 5 | muborak \n",
      "Processing Record 20 of set 5 | hilo \n",
      "Processing Record 21 of set 5 | lebu \n",
      "Processing Record 22 of set 5 | hovd \n",
      "Processing Record 23 of set 5 | el campo \n",
      "Processing Record 24 of set 5 | galveston \n",
      "Processing Record 25 of set 5 | coquimbo \n",
      "Processing Record 26 of set 5 | alyangula \n",
      "Processing Record 27 of set 5 | ostrovnoy \n",
      "Processing Record 28 of set 5 | sozimskiy \n",
      "Processing Record 29 of set 5 | mahebourg \n",
      "Processing Record 30 of set 5 | port blair \n",
      "Processing Record 31 of set 5 | camacha \n",
      "Processing Record 32 of set 5 | port lincoln \n",
      "Processing Record 33 of set 5 | kavaratti \n",
      "Processing Record 34 of set 5 | pevek \n",
      "Processing Record 35 of set 5 | atuona \n",
      "Processing Record 36 of set 5 | bahia honda \n",
      "Processing Record 37 of set 5 | honiara \n",
      "Processing Record 38 of set 5 | svetlyy \n",
      "Processing Record 39 of set 5 | whitehorse \n",
      "Processing Record 40 of set 5 | taltal \n",
      "Processing Record 41 of set 5 | elban \n",
      "Processing Record 42 of set 5 | sochi \n",
      "Processing Record 43 of set 5 | la ronge \n",
      "Processing Record 44 of set 5 | beringovskiy \n",
      "Processing Record 45 of set 5 | biak \n",
      "Processing Record 46 of set 5 | saldanha \n",
      "Processing Record 47 of set 5 | sortland \n",
      "Processing Record 48 of set 5 | bambous virieux \n",
      "Processing Record 49 of set 5 | bossembele \n",
      "City not found. Skipping...\n",
      "Processing Record 0 of set 6 | lavrentiya \n",
      "Processing Record 1 of set 6 | nanortalik \n",
      "Processing Record 2 of set 6 | saint-pierre \n",
      "Processing Record 3 of set 6 | concarneau \n",
      "Processing Record 4 of set 6 | miraflores \n",
      "Processing Record 5 of set 6 | kerema \n",
      "Processing Record 6 of set 6 | samalaeulu \n",
      "City not found. Skipping...\n",
      "Processing Record 7 of set 6 | ashnak \n",
      "Processing Record 8 of set 6 | arraial do cabo \n",
      "Processing Record 9 of set 6 | ilebo \n",
      "Processing Record 10 of set 6 | gayny \n",
      "Processing Record 11 of set 6 | susanville \n",
      "Processing Record 12 of set 6 | vestmanna \n",
      "Processing Record 13 of set 6 | cairns \n",
      "Processing Record 14 of set 6 | launceston \n",
      "Processing Record 15 of set 6 | linhares \n",
      "Processing Record 16 of set 6 | acuna \n",
      "City not found. Skipping...\n",
      "Processing Record 17 of set 6 | chokurdakh \n",
      "Processing Record 18 of set 6 | port hardy \n",
      "Processing Record 19 of set 6 | auki \n",
      "Processing Record 20 of set 6 | chimoio \n",
      "Processing Record 21 of set 6 | ostersund \n",
      "Processing Record 22 of set 6 | tupancireta \n",
      "Processing Record 23 of set 6 | broome \n",
      "Processing Record 24 of set 6 | aromashevo \n",
      "Processing Record 25 of set 6 | kapit \n",
      "Processing Record 26 of set 6 | azare \n",
      "Processing Record 27 of set 6 | santa rosa \n",
      "Processing Record 28 of set 6 | klaksvik \n",
      "Processing Record 29 of set 6 | bengkulu \n",
      "Processing Record 30 of set 6 | tevriz \n",
      "Processing Record 31 of set 6 | kanungu \n",
      "Processing Record 32 of set 6 | ksenyevka \n",
      "City not found. Skipping...\n",
      "Processing Record 33 of set 6 | homer \n",
      "Processing Record 34 of set 6 | hirara \n",
      "Processing Record 35 of set 6 | kamen-na-obi \n",
      "Processing Record 36 of set 6 | lahaina \n",
      "Processing Record 37 of set 6 | doba \n",
      "Processing Record 38 of set 6 | kedrovyy \n",
      "Processing Record 39 of set 6 | tombouctou \n",
      "Processing Record 40 of set 6 | nguiu \n",
      "City not found. Skipping...\n",
      "Processing Record 41 of set 6 | muros \n",
      "Processing Record 42 of set 6 | wakkanai \n",
      "Processing Record 43 of set 6 | viligili \n",
      "City not found. Skipping...\n",
      "Processing Record 44 of set 6 | zhigansk \n",
      "Processing Record 45 of set 6 | poum \n",
      "Processing Record 46 of set 6 | puteyets \n",
      "Processing Record 47 of set 6 | coahuayana \n",
      "Processing Record 48 of set 6 | stornoway \n",
      "Processing Record 49 of set 6 | erzin \n",
      "Processing Record 0 of set 7 | mataro \n",
      "Processing Record 1 of set 7 | boromo \n",
      "Processing Record 2 of set 7 | deputatskiy \n",
      "Processing Record 3 of set 7 | kungurtug \n",
      "Processing Record 4 of set 7 | nanyuki \n",
      "Processing Record 5 of set 7 | aneho \n",
      "Processing Record 6 of set 7 | lorengau \n",
      "Processing Record 7 of set 7 | hamilton \n",
      "Processing Record 8 of set 7 | cumaribo \n",
      "City not found. Skipping...\n",
      "Processing Record 9 of set 7 | hithadhoo \n",
      "Processing Record 10 of set 7 | port-gentil \n",
      "Processing Record 11 of set 7 | lar \n",
      "Processing Record 12 of set 7 | kawalu \n",
      "Processing Record 13 of set 7 | talcahuano \n",
      "Processing Record 14 of set 7 | karaul \n",
      "City not found. Skipping...\n",
      "Processing Record 15 of set 7 | carauari \n",
      "Processing Record 16 of set 7 | arica \n",
      "Processing Record 17 of set 7 | tromso \n",
      "Processing Record 18 of set 7 | port-cartier \n",
      "Processing Record 19 of set 7 | baykit \n",
      "Processing Record 20 of set 7 | taft \n",
      "Processing Record 21 of set 7 | neiafu \n",
      "Processing Record 22 of set 7 | attawapiskat \n",
      "City not found. Skipping...\n",
      "Processing Record 23 of set 7 | college \n",
      "Processing Record 24 of set 7 | yeppoon \n",
      "Processing Record 25 of set 7 | titay \n",
      "Processing Record 26 of set 7 | kabalo \n",
      "Processing Record 27 of set 7 | vondrozo \n",
      "Processing Record 28 of set 7 | yashalta \n",
      "Processing Record 29 of set 7 | zitiste \n",
      "Processing Record 30 of set 7 | nosy varika \n",
      "Processing Record 31 of set 7 | ulcinj \n",
      "Processing Record 32 of set 7 | pacifica \n",
      "Processing Record 33 of set 7 | pangai \n",
      "Processing Record 34 of set 7 | dawson creek \n",
      "Processing Record 35 of set 7 | ahipara \n",
      "Processing Record 36 of set 7 | dmitrovsk-orlovskiy \n",
      "Processing Record 37 of set 7 | canon city \n",
      "Processing Record 38 of set 7 | san quintin \n",
      "Processing Record 39 of set 7 | khandyga \n",
      "Processing Record 40 of set 7 | makakilo city \n",
      "Processing Record 41 of set 7 | faanui \n",
      "Processing Record 42 of set 7 | hohhot \n",
      "Processing Record 43 of set 7 | tiarei \n",
      "Processing Record 44 of set 7 | cidreira \n",
      "Processing Record 45 of set 7 | mount gambier \n",
      "Processing Record 46 of set 7 | longyan \n",
      "Processing Record 47 of set 7 | tazovskiy \n",
      "Processing Record 48 of set 7 | vung tau \n",
      "Processing Record 49 of set 7 | yirol \n",
      "City not found. Skipping...\n",
      "Processing Record 0 of set 8 | vilhena \n",
      "Processing Record 1 of set 8 | ulladulla \n",
      "Processing Record 2 of set 8 | ambatofinandrahana \n",
      "Processing Record 3 of set 8 | san jose \n",
      "Processing Record 4 of set 8 | caravelas \n",
      "Processing Record 5 of set 8 | tsihombe \n",
      "City not found. Skipping...\n",
      "Processing Record 6 of set 8 | ushtobe \n",
      "Processing Record 7 of set 8 | constitucion \n",
      "Processing Record 8 of set 8 | kathmandu \n",
      "Processing Record 9 of set 8 | tambopata \n",
      "Processing Record 10 of set 8 | badarpur \n",
      "Processing Record 11 of set 8 | disna \n",
      "Processing Record 12 of set 8 | garowe \n",
      "Processing Record 13 of set 8 | thinadhoo \n",
      "Processing Record 14 of set 8 | xinzhou \n",
      "Processing Record 15 of set 8 | uige \n",
      "Processing Record 16 of set 8 | najran \n",
      "Processing Record 17 of set 8 | borujerd \n",
      "Processing Record 18 of set 8 | karauzyak \n",
      "City not found. Skipping...\n",
      "Processing Record 19 of set 8 | manoel urbano \n"
     ]
    },
    {
     "name": "stdout",
     "output_type": "stream",
     "text": [
      "Processing Record 20 of set 8 | manosque \n",
      "Processing Record 21 of set 8 | san patricio \n",
      "Processing Record 22 of set 8 | xingcheng \n",
      "Processing Record 23 of set 8 | alice springs \n",
      "Processing Record 24 of set 8 | lolua \n",
      "City not found. Skipping...\n",
      "Processing Record 25 of set 8 | nantucket \n",
      "Processing Record 26 of set 8 | somerset east \n",
      "Processing Record 27 of set 8 | mildura \n",
      "Processing Record 28 of set 8 | ucluelet \n",
      "Processing Record 29 of set 8 | te anau \n",
      "Processing Record 30 of set 8 | quelimane \n",
      "Processing Record 31 of set 8 | krasnoselkup \n",
      "Processing Record 32 of set 8 | dartford \n",
      "Processing Record 33 of set 8 | karratha \n",
      "Processing Record 34 of set 8 | ilo \n",
      "Processing Record 35 of set 8 | eugene \n",
      "Processing Record 36 of set 8 | sao carlos \n",
      "Processing Record 37 of set 8 | uruacu \n",
      "Processing Record 38 of set 8 | kununurra \n",
      "Processing Record 39 of set 8 | anchorage \n",
      "Processing Record 40 of set 8 | nishihara \n",
      "Processing Record 41 of set 8 | mecca \n",
      "Processing Record 42 of set 8 | nabire \n",
      "Processing Record 43 of set 8 | katsiveli \n",
      "City not found. Skipping...\n",
      "Processing Record 44 of set 8 | mrirt \n",
      "City not found. Skipping...\n",
      "Processing Record 45 of set 8 | opuwo \n",
      "Processing Record 46 of set 8 | manali \n",
      "Processing Record 47 of set 8 | krutinka \n",
      "Processing Record 48 of set 8 | bollene \n",
      "Processing Record 49 of set 8 | yanam \n",
      "Processing Record 0 of set 9 | sorland \n",
      "Processing Record 1 of set 9 | dickson \n",
      "Processing Record 2 of set 9 | pangody \n",
      "Processing Record 3 of set 9 | guelengdeng \n",
      "City not found. Skipping...\n",
      "Processing Record 4 of set 9 | koutiala \n",
      "Processing Record 5 of set 9 | yinchuan \n",
      "Processing Record 6 of set 9 | rocha \n",
      "Processing Record 7 of set 9 | xinzhi \n",
      "Processing Record 8 of set 9 | ola \n",
      "Processing Record 9 of set 9 | niono \n",
      "Processing Record 10 of set 9 | aleksandrovsk-sakhalinskiy \n",
      "Processing Record 11 of set 9 | hualmay \n",
      "Processing Record 12 of set 9 | aklavik \n",
      "Processing Record 13 of set 9 | guilin \n",
      "Processing Record 14 of set 9 | grand forks \n",
      "Processing Record 15 of set 9 | el reno \n",
      "Processing Record 16 of set 9 | airai \n",
      "Processing Record 17 of set 9 | great yarmouth \n",
      "Processing Record 18 of set 9 | acapulco \n",
      "Processing Record 19 of set 9 | krasnyy chikoy \n",
      "Processing Record 20 of set 9 | marsh harbour \n",
      "Processing Record 21 of set 9 | roebourne \n",
      "Processing Record 22 of set 9 | charters towers \n",
      "Processing Record 23 of set 9 | andenes \n",
      "Processing Record 24 of set 9 | avera \n",
      "Processing Record 25 of set 9 | fairbanks \n",
      "Processing Record 26 of set 9 | tabarqah \n",
      "City not found. Skipping...\n",
      "Processing Record 27 of set 9 | bolshaya irba \n",
      "City not found. Skipping...\n",
      "Processing Record 28 of set 9 | havelock \n",
      "Processing Record 29 of set 9 | birobidzhan \n",
      "Processing Record 30 of set 9 | tura \n",
      "Processing Record 31 of set 9 | safaga \n",
      "Processing Record 32 of set 9 | chuy \n",
      "Processing Record 33 of set 9 | chaa-khol \n",
      "City not found. Skipping...\n",
      "Processing Record 34 of set 9 | christchurch \n",
      "Processing Record 35 of set 9 | yulara \n",
      "Processing Record 36 of set 9 | sabibah \n",
      "City not found. Skipping...\n",
      "Processing Record 37 of set 9 | shevchenkove \n",
      "Processing Record 38 of set 9 | benghazi \n",
      "Processing Record 39 of set 9 | mackay \n",
      "Processing Record 40 of set 9 | salinas \n",
      "Processing Record 41 of set 9 | imphal \n",
      "Processing Record 42 of set 9 | vao \n",
      "Processing Record 43 of set 9 | fortuna \n",
      "Processing Record 44 of set 9 | prabumulih \n",
      "Processing Record 45 of set 9 | geraldton \n",
      "Processing Record 46 of set 9 | inuvik \n",
      "Processing Record 47 of set 9 | chara \n",
      "Processing Record 48 of set 9 | bargal \n",
      "City not found. Skipping...\n",
      "Processing Record 49 of set 9 | suicheng \n",
      "Processing Record 0 of set 10 | alta floresta \n",
      "Processing Record 1 of set 10 | sobolevo \n",
      "Processing Record 2 of set 10 | daru \n",
      "Processing Record 3 of set 10 | rio grande \n",
      "Processing Record 4 of set 10 | erenhot \n",
      "Processing Record 5 of set 10 | lagoa \n",
      "Processing Record 6 of set 10 | nuevitas \n",
      "Processing Record 7 of set 10 | caledon \n",
      "Processing Record 8 of set 10 | marcona \n",
      "City not found. Skipping...\n",
      "Processing Record 9 of set 10 | pistsovo \n",
      "Processing Record 10 of set 10 | qasigiannguit \n",
      "Processing Record 11 of set 10 | pedernales \n",
      "Processing Record 12 of set 10 | azimur \n",
      "City not found. Skipping...\n",
      "Processing Record 13 of set 10 | mallama \n",
      "City not found. Skipping...\n",
      "Processing Record 14 of set 10 | atchison \n",
      "Processing Record 15 of set 10 | horsham \n",
      "Processing Record 16 of set 10 | haifa \n",
      "Processing Record 17 of set 10 | zhaotong \n",
      "Processing Record 18 of set 10 | camacari \n",
      "Processing Record 19 of set 10 | saint simons \n",
      "Processing Record 20 of set 10 | bagdarin \n",
      "Processing Record 21 of set 10 | hay river \n",
      "Processing Record 22 of set 10 | asau \n",
      "Processing Record 23 of set 10 | nalut \n",
      "Processing Record 24 of set 10 | tahta \n",
      "Processing Record 25 of set 10 | bitung \n",
      "Processing Record 26 of set 10 | khasan \n",
      "Processing Record 27 of set 10 | port hawkesbury \n",
      "Processing Record 28 of set 10 | mana \n",
      "Processing Record 29 of set 10 | san carlos de bariloche \n",
      "Processing Record 30 of set 10 | saint-augustin \n",
      "Processing Record 31 of set 10 | takoradi \n",
      "Processing Record 32 of set 10 | ploemeur \n",
      "Processing Record 33 of set 10 | policoro \n",
      "Processing Record 34 of set 10 | moerewa \n",
      "Processing Record 35 of set 10 | urozhaynoye \n",
      "Processing Record 36 of set 10 | czluchow \n",
      "Processing Record 37 of set 10 | adrar \n",
      "Processing Record 38 of set 10 | the valley \n",
      "Processing Record 39 of set 10 | gidole \n",
      "Processing Record 40 of set 10 | armacao de pera \n",
      "Processing Record 41 of set 10 | dali \n",
      "Processing Record 42 of set 10 | warqla \n",
      "City not found. Skipping...\n",
      "Processing Record 43 of set 10 | rosarito \n",
      "Processing Record 44 of set 10 | murgab \n",
      "Processing Record 45 of set 10 | gat \n",
      "Processing Record 46 of set 10 | ahuimanu \n",
      "Processing Record 47 of set 10 | ponta do sol \n",
      "Processing Record 48 of set 10 | bonavista \n",
      "Processing Record 49 of set 10 | halalo \n",
      "City not found. Skipping...\n",
      "Processing Record 0 of set 11 | falealupo \n",
      "City not found. Skipping...\n",
      "Processing Record 1 of set 11 | zhoucheng \n",
      "Processing Record 2 of set 11 | shenzhen \n",
      "Processing Record 3 of set 11 | wanning \n",
      "Processing Record 4 of set 11 | rosita \n",
      "Processing Record 5 of set 11 | san juan del sur \n",
      "Processing Record 6 of set 11 | los andes \n",
      "Processing Record 7 of set 11 | norman wells \n",
      "Processing Record 8 of set 11 | barra do garcas \n",
      "Processing Record 9 of set 11 | amga \n",
      "Processing Record 10 of set 11 | olafsvik \n",
      "Processing Record 11 of set 11 | el balyana \n",
      "City not found. Skipping...\n",
      "Processing Record 12 of set 11 | yar-sale \n",
      "Processing Record 13 of set 11 | palabuhanratu \n",
      "City not found. Skipping...\n",
      "Processing Record 14 of set 11 | arawa \n",
      "Processing Record 15 of set 11 | richards bay \n",
      "Processing Record 16 of set 11 | peachtree city \n",
      "Processing Record 17 of set 11 | cardston \n",
      "Processing Record 18 of set 11 | tooele \n",
      "Processing Record 19 of set 11 | praia da vitoria \n",
      "Processing Record 20 of set 11 | mozarlandia \n",
      "Processing Record 21 of set 11 | benguela \n",
      "Processing Record 22 of set 11 | balaka \n",
      "Processing Record 23 of set 11 | bow island \n",
      "Processing Record 24 of set 11 | saint anthony \n",
      "Processing Record 25 of set 11 | vagur \n",
      "Processing Record 26 of set 11 | egvekinot \n",
      "Processing Record 27 of set 11 | carballo \n",
      "Processing Record 28 of set 11 | hachinohe \n",
      "Processing Record 29 of set 11 | ust-kuyga \n",
      "Processing Record 30 of set 11 | goderich \n",
      "Processing Record 31 of set 11 | shimoda \n",
      "Processing Record 32 of set 11 | haimen \n",
      "Processing Record 33 of set 11 | mabaruma \n",
      "Processing Record 34 of set 11 | kalomo \n",
      "City not found. Skipping...\n",
      "Processing Record 35 of set 11 | ruatoria \n",
      "City not found. Skipping...\n",
      "Processing Record 36 of set 11 | pangkalanbuun \n",
      "Processing Record 37 of set 11 | port said \n",
      "Processing Record 38 of set 11 | inzhavino \n",
      "Processing Record 39 of set 11 | axim \n",
      "Processing Record 40 of set 11 | tual \n",
      "Processing Record 41 of set 11 | nanakuli \n",
      "Processing Record 42 of set 11 | porterville \n",
      "Processing Record 43 of set 11 | shelburne \n",
      "Processing Record 44 of set 11 | hihifo \n",
      "City not found. Skipping...\n",
      "Processing Record 45 of set 11 | beaver dam \n",
      "Processing Record 46 of set 11 | sudak \n",
      "Processing Record 47 of set 11 | cap malheureux \n",
      "Processing Record 48 of set 11 | namibe \n",
      "Processing Record 49 of set 11 | nassjo \n"
     ]
    },
    {
     "name": "stdout",
     "output_type": "stream",
     "text": [
      "Processing Record 0 of set 12 | dondo \n",
      "Processing Record 1 of set 12 | naze \n",
      "Processing Record 2 of set 12 | mountain home \n",
      "Processing Record 3 of set 12 | konotop \n",
      "Processing Record 4 of set 12 | ivanteyevka \n",
      "Processing Record 5 of set 12 | inhambane \n",
      "Processing Record 6 of set 12 | chagda \n",
      "City not found. Skipping...\n",
      "Processing Record 7 of set 12 | dolbeau \n",
      "City not found. Skipping...\n",
      "Processing Record 8 of set 12 | krasnoarmeysk \n",
      "Processing Record 9 of set 12 | bilma \n",
      "Processing Record 10 of set 12 | tumannyy \n",
      "City not found. Skipping...\n",
      "Processing Record 11 of set 12 | viedma \n",
      "Processing Record 12 of set 12 | tilichiki \n",
      "Processing Record 13 of set 12 | tiznit \n",
      "Processing Record 14 of set 12 | puga \n",
      "Processing Record 15 of set 12 | concordia \n",
      "Processing Record 16 of set 12 | parelhas \n",
      "Processing Record 17 of set 12 | petropavl \n",
      "Processing Record 18 of set 12 | manavalakurichi \n",
      "Processing Record 19 of set 12 | kailua \n",
      "Processing Record 20 of set 12 | lahij \n",
      "Processing Record 21 of set 12 | heiligenhafen \n",
      "Processing Record 22 of set 12 | mezen \n",
      "Processing Record 23 of set 12 | along \n",
      "Processing Record 24 of set 12 | fukue \n",
      "Processing Record 25 of set 12 | sur \n",
      "Processing Record 26 of set 12 | ocos \n",
      "Processing Record 27 of set 12 | anahuac \n",
      "Processing Record 28 of set 12 | prince rupert \n",
      "Processing Record 29 of set 12 | aksu \n",
      "Processing Record 30 of set 12 | panaba \n",
      "Processing Record 31 of set 12 | suba \n",
      "Processing Record 32 of set 12 | san rafael \n",
      "Processing Record 33 of set 12 | aden \n",
      "Processing Record 34 of set 12 | kushima \n",
      "Processing Record 35 of set 12 | sioux lookout \n",
      "Processing Record 36 of set 12 | mukhen \n",
      "Processing Record 37 of set 12 | ust-maya \n",
      "Processing Record 38 of set 12 | iracoubo \n",
      "Processing Record 39 of set 12 | ryotsu \n",
      "Processing Record 40 of set 12 | rayachoti \n",
      "Processing Record 41 of set 12 | pinotepa nacional \n",
      "Processing Record 42 of set 12 | de-kastri \n",
      "Processing Record 43 of set 12 | samusu \n",
      "City not found. Skipping...\n",
      "Processing Record 44 of set 12 | malwan \n",
      "City not found. Skipping...\n",
      "Processing Record 45 of set 12 | abu samrah \n",
      "Processing Record 46 of set 12 | macia \n",
      "Processing Record 47 of set 12 | begunitsy \n",
      "Processing Record 48 of set 12 | khandbari \n",
      "Processing Record 49 of set 12 | paraiso \n",
      "Processing Record 0 of set 13 | gimli \n",
      "Processing Record 1 of set 13 | montrose \n",
      "Processing Record 2 of set 13 | ayna \n",
      "Processing Record 3 of set 13 | inyonga \n",
      "Processing Record 4 of set 13 | awbari \n",
      "Processing Record 5 of set 13 | katakwi \n",
      "Processing Record 6 of set 13 | ribas do rio pardo \n",
      "Processing Record 7 of set 13 | horta \n",
      "Processing Record 8 of set 13 | lahat \n",
      "-----------------------------\n",
      "Data Retrieval Complete      \n",
      "-----------------------------\n"
     ]
    }
   ],
   "source": [
    "url = \"http://api.openweathermap.org/data/2.5/weather?\"\n",
    "city_data = []\n",
    "#Log\n",
    "print(\"Beginning Data Retrieval     \")\n",
    "print(\"-----------------------------\")\n",
    "\n",
    "counter_city = 1\n",
    "counter_set = 1\n",
    "\n",
    "for i,city in enumerate(cities):\n",
    "\n",
    "    if (i % 50 == 0 and i >= 50):\n",
    "        counter_set = counter_set + 1\n",
    "        counter_city = 0\n",
    "    query_url = url + \"appid=\" + weather_api_key + \"&q=\" + city\n",
    "    print(f\"Processing Record {counter_city} of set {counter_set} | {city} \")\n",
    "    counter_city = counter_city + 1\n",
    "    try:\n",
    "        weather_response = requests.get(query_url).json()\n",
    "        city_lat = weather_response['coord']['lat']\n",
    "        city_lng = weather_response['coord']['lon']\n",
    "        city_max_temp = weather_response['main']['temp_max']\n",
    "        city_humidity = weather_response['main']['humidity']\n",
    "        city_claudiness = weather_response['clouds']['all']\n",
    "        city_wind_speed = weather_response['wind']['speed']\n",
    "        country = weather_response['sys']['country']\n",
    "        date = weather_response['dt']\n",
    "        city_data.append({\n",
    "            'City':city,\n",
    "            'Lat':city_lat,\n",
    "            'Lng':city_lng,\n",
    "            'Max Temp':city_max_temp,\n",
    "            'Humidity':city_humidity,\n",
    "            'Cloudiness':city_claudiness,\n",
    "            'Wind Speed':city_wind_speed,\n",
    "            'Country':country,\n",
    "            'Date':date                    \n",
    "        })\n",
    "        \n",
    "    except:\n",
    "        print(\"City not found. Skipping...\")\n",
    "        pass\n",
    " #Log\n",
    "print(\"-----------------------------\")  \n",
    "print(\"Data Retrieval Complete      \")\n",
    "print(\"-----------------------------\") \n"
   ]
  },
  {
   "cell_type": "markdown",
   "metadata": {},
   "source": [
    "### Convert Raw Data to DataFrame\n",
    "* Export the city data into a .csv.\n",
    "* Display the DataFrame"
   ]
  },
  {
   "cell_type": "code",
   "execution_count": 77,
   "metadata": {},
   "outputs": [
    {
     "data": {
      "text/html": [
       "<div>\n",
       "<style scoped>\n",
       "    .dataframe tbody tr th:only-of-type {\n",
       "        vertical-align: middle;\n",
       "    }\n",
       "\n",
       "    .dataframe tbody tr th {\n",
       "        vertical-align: top;\n",
       "    }\n",
       "\n",
       "    .dataframe thead th {\n",
       "        text-align: right;\n",
       "    }\n",
       "</style>\n",
       "<table border=\"1\" class=\"dataframe\">\n",
       "  <thead>\n",
       "    <tr style=\"text-align: right;\">\n",
       "      <th></th>\n",
       "      <th>City</th>\n",
       "      <th>Lat</th>\n",
       "      <th>Lng</th>\n",
       "      <th>Max Temp</th>\n",
       "      <th>Humidity</th>\n",
       "      <th>Cloudiness</th>\n",
       "      <th>Wind Speed</th>\n",
       "      <th>Country</th>\n",
       "      <th>Date</th>\n",
       "    </tr>\n",
       "  </thead>\n",
       "  <tbody>\n",
       "    <tr>\n",
       "      <th>0</th>\n",
       "      <td>carnarvon</td>\n",
       "      <td>-24.8667</td>\n",
       "      <td>113.6333</td>\n",
       "      <td>298.15</td>\n",
       "      <td>100</td>\n",
       "      <td>40</td>\n",
       "      <td>3.60</td>\n",
       "      <td>AU</td>\n",
       "      <td>1613163872</td>\n",
       "    </tr>\n",
       "    <tr>\n",
       "      <th>1</th>\n",
       "      <td>upernavik</td>\n",
       "      <td>72.7868</td>\n",
       "      <td>-56.1549</td>\n",
       "      <td>255.14</td>\n",
       "      <td>80</td>\n",
       "      <td>0</td>\n",
       "      <td>3.04</td>\n",
       "      <td>GL</td>\n",
       "      <td>1613163651</td>\n",
       "    </tr>\n",
       "    <tr>\n",
       "      <th>2</th>\n",
       "      <td>zyryanka</td>\n",
       "      <td>65.7500</td>\n",
       "      <td>150.8500</td>\n",
       "      <td>239.50</td>\n",
       "      <td>85</td>\n",
       "      <td>95</td>\n",
       "      <td>1.77</td>\n",
       "      <td>RU</td>\n",
       "      <td>1613163794</td>\n",
       "    </tr>\n",
       "    <tr>\n",
       "      <th>3</th>\n",
       "      <td>severo-kurilsk</td>\n",
       "      <td>50.6789</td>\n",
       "      <td>156.1250</td>\n",
       "      <td>270.47</td>\n",
       "      <td>95</td>\n",
       "      <td>80</td>\n",
       "      <td>4.80</td>\n",
       "      <td>RU</td>\n",
       "      <td>1613163869</td>\n",
       "    </tr>\n",
       "    <tr>\n",
       "      <th>4</th>\n",
       "      <td>cape town</td>\n",
       "      <td>-33.9258</td>\n",
       "      <td>18.4232</td>\n",
       "      <td>294.82</td>\n",
       "      <td>83</td>\n",
       "      <td>0</td>\n",
       "      <td>7.72</td>\n",
       "      <td>ZA</td>\n",
       "      <td>1613163482</td>\n",
       "    </tr>\n",
       "  </tbody>\n",
       "</table>\n",
       "</div>"
      ],
      "text/plain": [
       "             City      Lat       Lng  Max Temp  Humidity  Cloudiness  \\\n",
       "0       carnarvon -24.8667  113.6333    298.15       100          40   \n",
       "1       upernavik  72.7868  -56.1549    255.14        80           0   \n",
       "2        zyryanka  65.7500  150.8500    239.50        85          95   \n",
       "3  severo-kurilsk  50.6789  156.1250    270.47        95          80   \n",
       "4       cape town -33.9258   18.4232    294.82        83           0   \n",
       "\n",
       "   Wind Speed Country        Date  \n",
       "0        3.60      AU  1613163872  \n",
       "1        3.04      GL  1613163651  \n",
       "2        1.77      RU  1613163794  \n",
       "3        4.80      RU  1613163869  \n",
       "4        7.72      ZA  1613163482  "
      ]
     },
     "execution_count": 77,
     "metadata": {},
     "output_type": "execute_result"
    }
   ],
   "source": [
    "\n",
    "city_df=pd.DataFrame(city_data)\n",
    "city_df.to_csv('City_Weather_Data.csv')\n",
    "city_df.head()"
   ]
  },
  {
   "cell_type": "code",
   "execution_count": 78,
   "metadata": {},
   "outputs": [
    {
     "data": {
      "text/html": [
       "<div>\n",
       "<style scoped>\n",
       "    .dataframe tbody tr th:only-of-type {\n",
       "        vertical-align: middle;\n",
       "    }\n",
       "\n",
       "    .dataframe tbody tr th {\n",
       "        vertical-align: top;\n",
       "    }\n",
       "\n",
       "    .dataframe thead th {\n",
       "        text-align: right;\n",
       "    }\n",
       "</style>\n",
       "<table border=\"1\" class=\"dataframe\">\n",
       "  <thead>\n",
       "    <tr style=\"text-align: right;\">\n",
       "      <th></th>\n",
       "      <th>Lat</th>\n",
       "      <th>Lng</th>\n",
       "      <th>Max Temp</th>\n",
       "      <th>Humidity</th>\n",
       "      <th>Cloudiness</th>\n",
       "      <th>Wind Speed</th>\n",
       "      <th>Date</th>\n",
       "    </tr>\n",
       "  </thead>\n",
       "  <tbody>\n",
       "    <tr>\n",
       "      <th>count</th>\n",
       "      <td>551.000000</td>\n",
       "      <td>551.000000</td>\n",
       "      <td>551.000000</td>\n",
       "      <td>551.000000</td>\n",
       "      <td>551.000000</td>\n",
       "      <td>551.000000</td>\n",
       "      <td>5.510000e+02</td>\n",
       "    </tr>\n",
       "    <tr>\n",
       "      <th>mean</th>\n",
       "      <td>21.490792</td>\n",
       "      <td>16.106693</td>\n",
       "      <td>281.753122</td>\n",
       "      <td>74.232305</td>\n",
       "      <td>55.624319</td>\n",
       "      <td>3.673793</td>\n",
       "      <td>1.613164e+09</td>\n",
       "    </tr>\n",
       "    <tr>\n",
       "      <th>std</th>\n",
       "      <td>33.758378</td>\n",
       "      <td>94.057955</td>\n",
       "      <td>18.243073</td>\n",
       "      <td>19.095276</td>\n",
       "      <td>38.518502</td>\n",
       "      <td>2.798786</td>\n",
       "      <td>9.408694e+01</td>\n",
       "    </tr>\n",
       "    <tr>\n",
       "      <th>min</th>\n",
       "      <td>-54.800000</td>\n",
       "      <td>-179.166700</td>\n",
       "      <td>234.830000</td>\n",
       "      <td>12.000000</td>\n",
       "      <td>0.000000</td>\n",
       "      <td>0.130000</td>\n",
       "      <td>1.613163e+09</td>\n",
       "    </tr>\n",
       "    <tr>\n",
       "      <th>25%</th>\n",
       "      <td>-7.133050</td>\n",
       "      <td>-67.020750</td>\n",
       "      <td>270.420000</td>\n",
       "      <td>65.000000</td>\n",
       "      <td>20.000000</td>\n",
       "      <td>1.570000</td>\n",
       "      <td>1.613164e+09</td>\n",
       "    </tr>\n",
       "    <tr>\n",
       "      <th>50%</th>\n",
       "      <td>26.769300</td>\n",
       "      <td>24.833300</td>\n",
       "      <td>288.150000</td>\n",
       "      <td>79.000000</td>\n",
       "      <td>71.000000</td>\n",
       "      <td>3.000000</td>\n",
       "      <td>1.613164e+09</td>\n",
       "    </tr>\n",
       "    <tr>\n",
       "      <th>75%</th>\n",
       "      <td>50.150950</td>\n",
       "      <td>100.344850</td>\n",
       "      <td>297.560000</td>\n",
       "      <td>88.000000</td>\n",
       "      <td>90.000000</td>\n",
       "      <td>5.140000</td>\n",
       "      <td>1.613164e+09</td>\n",
       "    </tr>\n",
       "    <tr>\n",
       "      <th>max</th>\n",
       "      <td>78.218600</td>\n",
       "      <td>179.316700</td>\n",
       "      <td>304.440000</td>\n",
       "      <td>100.000000</td>\n",
       "      <td>100.000000</td>\n",
       "      <td>16.460000</td>\n",
       "      <td>1.613164e+09</td>\n",
       "    </tr>\n",
       "  </tbody>\n",
       "</table>\n",
       "</div>"
      ],
      "text/plain": [
       "              Lat         Lng    Max Temp    Humidity  Cloudiness  Wind Speed  \\\n",
       "count  551.000000  551.000000  551.000000  551.000000  551.000000  551.000000   \n",
       "mean    21.490792   16.106693  281.753122   74.232305   55.624319    3.673793   \n",
       "std     33.758378   94.057955   18.243073   19.095276   38.518502    2.798786   \n",
       "min    -54.800000 -179.166700  234.830000   12.000000    0.000000    0.130000   \n",
       "25%     -7.133050  -67.020750  270.420000   65.000000   20.000000    1.570000   \n",
       "50%     26.769300   24.833300  288.150000   79.000000   71.000000    3.000000   \n",
       "75%     50.150950  100.344850  297.560000   88.000000   90.000000    5.140000   \n",
       "max     78.218600  179.316700  304.440000  100.000000  100.000000   16.460000   \n",
       "\n",
       "               Date  \n",
       "count  5.510000e+02  \n",
       "mean   1.613164e+09  \n",
       "std    9.408694e+01  \n",
       "min    1.613163e+09  \n",
       "25%    1.613164e+09  \n",
       "50%    1.613164e+09  \n",
       "75%    1.613164e+09  \n",
       "max    1.613164e+09  "
      ]
     },
     "execution_count": 78,
     "metadata": {},
     "output_type": "execute_result"
    }
   ],
   "source": [
    "city_df.describe()"
   ]
  },
  {
   "cell_type": "markdown",
   "metadata": {},
   "source": [
    "## Inspect the data and remove the cities where the humidity > 100%.\n",
    "----\n",
    "Skip this step if there are no cities that have humidity > 100%. "
   ]
  },
  {
   "cell_type": "code",
   "execution_count": 81,
   "metadata": {},
   "outputs": [
    {
     "data": {
      "text/html": [
       "<div>\n",
       "<style scoped>\n",
       "    .dataframe tbody tr th:only-of-type {\n",
       "        vertical-align: middle;\n",
       "    }\n",
       "\n",
       "    .dataframe tbody tr th {\n",
       "        vertical-align: top;\n",
       "    }\n",
       "\n",
       "    .dataframe thead th {\n",
       "        text-align: right;\n",
       "    }\n",
       "</style>\n",
       "<table border=\"1\" class=\"dataframe\">\n",
       "  <thead>\n",
       "    <tr style=\"text-align: right;\">\n",
       "      <th></th>\n",
       "      <th>Humidity</th>\n",
       "    </tr>\n",
       "  </thead>\n",
       "  <tbody>\n",
       "  </tbody>\n",
       "</table>\n",
       "</div>"
      ],
      "text/plain": [
       "Empty DataFrame\n",
       "Columns: [Humidity]\n",
       "Index: []"
      ]
     },
     "execution_count": 81,
     "metadata": {},
     "output_type": "execute_result"
    }
   ],
   "source": [
    "humidity_df = city_df.loc[city_df['Humidity'] > 100,['Humidity']]\n",
    "humidity_df\n"
   ]
  },
  {
   "cell_type": "code",
   "execution_count": 82,
   "metadata": {},
   "outputs": [
    {
     "data": {
      "text/html": [
       "<div>\n",
       "<style scoped>\n",
       "    .dataframe tbody tr th:only-of-type {\n",
       "        vertical-align: middle;\n",
       "    }\n",
       "\n",
       "    .dataframe tbody tr th {\n",
       "        vertical-align: top;\n",
       "    }\n",
       "\n",
       "    .dataframe thead th {\n",
       "        text-align: right;\n",
       "    }\n",
       "</style>\n",
       "<table border=\"1\" class=\"dataframe\">\n",
       "  <thead>\n",
       "    <tr style=\"text-align: right;\">\n",
       "      <th></th>\n",
       "      <th>Humidity</th>\n",
       "    </tr>\n",
       "  </thead>\n",
       "  <tbody>\n",
       "    <tr>\n",
       "      <th>count</th>\n",
       "      <td>535.000000</td>\n",
       "    </tr>\n",
       "    <tr>\n",
       "      <th>mean</th>\n",
       "      <td>73.461682</td>\n",
       "    </tr>\n",
       "    <tr>\n",
       "      <th>std</th>\n",
       "      <td>18.843181</td>\n",
       "    </tr>\n",
       "    <tr>\n",
       "      <th>min</th>\n",
       "      <td>12.000000</td>\n",
       "    </tr>\n",
       "    <tr>\n",
       "      <th>25%</th>\n",
       "      <td>65.000000</td>\n",
       "    </tr>\n",
       "    <tr>\n",
       "      <th>50%</th>\n",
       "      <td>78.000000</td>\n",
       "    </tr>\n",
       "    <tr>\n",
       "      <th>75%</th>\n",
       "      <td>87.000000</td>\n",
       "    </tr>\n",
       "    <tr>\n",
       "      <th>max</th>\n",
       "      <td>99.000000</td>\n",
       "    </tr>\n",
       "  </tbody>\n",
       "</table>\n",
       "</div>"
      ],
      "text/plain": [
       "         Humidity\n",
       "count  535.000000\n",
       "mean    73.461682\n",
       "std     18.843181\n",
       "min     12.000000\n",
       "25%     65.000000\n",
       "50%     78.000000\n",
       "75%     87.000000\n",
       "max     99.000000"
      ]
     },
     "execution_count": 82,
     "metadata": {},
     "output_type": "execute_result"
    }
   ],
   "source": [
    "#  Get the indices of cities that have humidity over 100%.\n",
    "humidity_df = city_df.loc[city_df['Humidity'] < 100,['Humidity']]\n",
    "humidity_df.describe()"
   ]
  },
  {
   "cell_type": "code",
   "execution_count": 87,
   "metadata": {},
   "outputs": [
    {
     "data": {
      "text/html": [
       "<div>\n",
       "<style scoped>\n",
       "    .dataframe tbody tr th:only-of-type {\n",
       "        vertical-align: middle;\n",
       "    }\n",
       "\n",
       "    .dataframe tbody tr th {\n",
       "        vertical-align: top;\n",
       "    }\n",
       "\n",
       "    .dataframe thead th {\n",
       "        text-align: right;\n",
       "    }\n",
       "</style>\n",
       "<table border=\"1\" class=\"dataframe\">\n",
       "  <thead>\n",
       "    <tr style=\"text-align: right;\">\n",
       "      <th></th>\n",
       "      <th>City</th>\n",
       "      <th>Lat</th>\n",
       "      <th>Lng</th>\n",
       "      <th>Max Temp</th>\n",
       "      <th>Humidity</th>\n",
       "      <th>Cloudiness</th>\n",
       "      <th>Wind Speed</th>\n",
       "      <th>Country</th>\n",
       "      <th>Date</th>\n",
       "    </tr>\n",
       "  </thead>\n",
       "  <tbody>\n",
       "    <tr>\n",
       "      <th>1</th>\n",
       "      <td>upernavik</td>\n",
       "      <td>72.7868</td>\n",
       "      <td>-56.1549</td>\n",
       "      <td>255.14</td>\n",
       "      <td>80</td>\n",
       "      <td>0</td>\n",
       "      <td>3.04</td>\n",
       "      <td>GL</td>\n",
       "      <td>1613163651</td>\n",
       "    </tr>\n",
       "    <tr>\n",
       "      <th>2</th>\n",
       "      <td>zyryanka</td>\n",
       "      <td>65.7500</td>\n",
       "      <td>150.8500</td>\n",
       "      <td>239.50</td>\n",
       "      <td>85</td>\n",
       "      <td>95</td>\n",
       "      <td>1.77</td>\n",
       "      <td>RU</td>\n",
       "      <td>1613163794</td>\n",
       "    </tr>\n",
       "    <tr>\n",
       "      <th>3</th>\n",
       "      <td>severo-kurilsk</td>\n",
       "      <td>50.6789</td>\n",
       "      <td>156.1250</td>\n",
       "      <td>270.47</td>\n",
       "      <td>95</td>\n",
       "      <td>80</td>\n",
       "      <td>4.80</td>\n",
       "      <td>RU</td>\n",
       "      <td>1613163869</td>\n",
       "    </tr>\n",
       "    <tr>\n",
       "      <th>4</th>\n",
       "      <td>cape town</td>\n",
       "      <td>-33.9258</td>\n",
       "      <td>18.4232</td>\n",
       "      <td>294.82</td>\n",
       "      <td>83</td>\n",
       "      <td>0</td>\n",
       "      <td>7.72</td>\n",
       "      <td>ZA</td>\n",
       "      <td>1613163482</td>\n",
       "    </tr>\n",
       "    <tr>\n",
       "      <th>5</th>\n",
       "      <td>faya</td>\n",
       "      <td>18.3851</td>\n",
       "      <td>42.4509</td>\n",
       "      <td>288.15</td>\n",
       "      <td>72</td>\n",
       "      <td>0</td>\n",
       "      <td>2.57</td>\n",
       "      <td>SA</td>\n",
       "      <td>1613163797</td>\n",
       "    </tr>\n",
       "  </tbody>\n",
       "</table>\n",
       "</div>"
      ],
      "text/plain": [
       "             City      Lat       Lng  Max Temp  Humidity  Cloudiness  \\\n",
       "1       upernavik  72.7868  -56.1549    255.14        80           0   \n",
       "2        zyryanka  65.7500  150.8500    239.50        85          95   \n",
       "3  severo-kurilsk  50.6789  156.1250    270.47        95          80   \n",
       "4       cape town -33.9258   18.4232    294.82        83           0   \n",
       "5            faya  18.3851   42.4509    288.15        72           0   \n",
       "\n",
       "   Wind Speed Country        Date  \n",
       "1        3.04      GL  1613163651  \n",
       "2        1.77      RU  1613163794  \n",
       "3        4.80      RU  1613163869  \n",
       "4        7.72      ZA  1613163482  \n",
       "5        2.57      SA  1613163797  "
      ]
     },
     "execution_count": 87,
     "metadata": {},
     "output_type": "execute_result"
    }
   ],
   "source": [
    "# Make a new DataFrame equal to the city data to drop all humidity outliers by index.\n",
    "# Passing \"inplace=False\" will make a copy of the city_data DataFrame, which we call \"clean_city_data\".\n",
    "y = city_df['Humidity']\n",
    "removed_outliers = y.between(y.quantile(.05), y.quantile(.95))\n",
    "index_names = city_df[~removed_outliers].index\n",
    "clean_city_data = city_df.drop(index_names, inplace=False)\n",
    "clean_city_data.head()\n"
   ]
  },
  {
   "cell_type": "markdown",
   "metadata": {},
   "source": [
    "## Plotting the Data\n",
    "* Use proper labeling of the plots using plot titles (including date of analysis) and axes labels.\n",
    "* Save the plotted figures as .pngs."
   ]
  },
  {
   "cell_type": "markdown",
   "metadata": {},
   "source": [
    "## Latitude vs. Temperature Plot"
   ]
  },
  {
   "cell_type": "code",
   "execution_count": 93,
   "metadata": {
    "scrolled": true
   },
   "outputs": [
    {
     "data": {
      "image/png": "[encoded data removed]",
      "text/plain": [
       "<Figure size 432x288 with 1 Axes>"
      ]
     },
     "metadata": {
      "needs_background": "light"
     },
     "output_type": "display_data"
    }
   ],
   "source": [
    "clean_city_data.plot(kind=\"scatter\", x=\"Lat\", y=\"Max Temp\", grid=True,\n",
    "              title=\"Latitude vs. Temperature\")\n",
    "plt.savefig(\"../Images/lat_vs_maxTemp.png\")\n",
    "plt.show()\n"
   ]
  },
  {
   "cell_type": "markdown",
   "metadata": {},
   "source": [
    "## Latitude vs. Humidity Plot"
   ]
  },
  {
   "cell_type": "code",
   "execution_count": 94,
   "metadata": {},
   "outputs": [
    {
     "data": {
      "image/png": "[encoded data removed]",
      "text/plain": [
       "<Figure size 432x288 with 1 Axes>"
      ]
     },
     "metadata": {
      "needs_background": "light"
     },
     "output_type": "display_data"
    }
   ],
   "source": [
    "clean_city_data.plot(kind=\"scatter\", x=\"Lat\", y=\"Humidity\", grid=True,\n",
    "              title=\"Latitude vs. Temperature\")\n",
    "plt.savefig(\"../Images/lat_vs_humidity.png\")\n",
    "plt.show()"
   ]
  },
  {
   "cell_type": "markdown",
   "metadata": {},
   "source": [
    "## Latitude vs. Cloudiness Plot"
   ]
  },
  {
   "cell_type": "code",
   "execution_count": 95,
   "metadata": {},
   "outputs": [
    {
     "data": {
      "image/png": "[encoded data removed]",
      "text/plain": [
       "<Figure size 432x288 with 1 Axes>"
      ]
     },
     "metadata": {
      "needs_background": "light"
     },
     "output_type": "display_data"
    }
   ],
   "source": [
    "clean_city_data.plot(kind=\"scatter\", x=\"Lat\", y=\"Cloudiness\", grid=True,\n",
    "              title=\"Latitude vs. Temperature\")\n",
    "plt.savefig(\"../Images/lat_vs_cloudiness.png\")\n",
    "plt.show()"
   ]
  },
  {
   "cell_type": "markdown",
   "metadata": {},
   "source": [
    "## Latitude vs. Wind Speed Plot"
   ]
  },
  {
   "cell_type": "code",
   "execution_count": 96,
   "metadata": {},
   "outputs": [
    {
     "data": {
      "image/png": "[encoded data removed]",
      "text/plain": [
       "<Figure size 432x288 with 1 Axes>"
      ]
     },
     "metadata": {
      "needs_background": "light"
     },
     "output_type": "display_data"
    }
   ],
   "source": [
    "clean_city_data.plot(kind=\"scatter\", x=\"Lat\", y=\"Wind Speed\", grid=True,\n",
    "              title=\"Latitude vs. Temperature\")\n",
    "plt.savefig(\"../Images/lat_vs_windSpeed.png\")\n",
    "plt.show()"
   ]
  },
  {
   "cell_type": "markdown",
   "metadata": {},
   "source": [
    "## Linear Regression"
   ]
  },
  {
   "cell_type": "code",
   "execution_count": 99,
   "metadata": {},
   "outputs": [],
   "source": [
    "northern_hemisphere = clean_city_data.loc[clean_city_data['Lat'] >= 0.0]\n",
    "northern_hemisphere.reset_index(inplace=True)\n",
    "southern_hemisphere = clean_city_data.loc[clean_city_data['Lat'] < 0.0]\n",
    "southern_hemisphere.reset_index(inplace=True)\n",
    "\n"
   ]
  },
  {
   "cell_type": "markdown",
   "metadata": {},
   "source": [
    "####  Northern Hemisphere - Max Temp vs. Latitude Linear Regression"
   ]
  },
  {
   "cell_type": "code",
   "execution_count": 153,
   "metadata": {},
   "outputs": [
    {
     "name": "stdout",
     "output_type": "stream",
     "text": [
      "The r-squared is: 0.7559334070777851\n"
     ]
    },
    {
     "data": {
      "image/png": "[encoded data removed]",
      "text/plain": [
       "<Figure size 432x288 with 1 Axes>"
      ]
     },
     "metadata": {
      "needs_background": "light"
     },
     "output_type": "display_data"
    }
   ],
   "source": [
    "x_values = northern_hemisphere['Lat']\n",
    "y_values = northern_hemisphere['Max Temp']\n",
    "(slope, intercept, rvalue, pvalue, stderr) = linregress(x_values, y_values)\n",
    "regress_values = x_values * slope + intercept\n",
    "line_eq = \"y = \" + str(round(slope,2)) + \"x + \" + str(round(intercept,2))\n",
    "plt.scatter(x_values,y_values)\n",
    "plt.plot(x_values,regress_values,\"r-\")\n",
    "plt.annotate(line_eq,(10,240),fontsize=15,color=\"red\")\n",
    "plt.xlabel('Latitude')\n",
    "plt.ylabel('Max Temp')\n",
    "print(f\"The r-squared is: {rvalue**2}\")\n",
    "plt.savefig(\"../Images/linear_regression_northern_maxTemp_vs_Lat.png\")\n",
    "plt.show()"
   ]
  },
  {
   "cell_type": "markdown",
   "metadata": {},
   "source": [
    "####  Southern Hemisphere - Max Temp vs. Latitude Linear Regression"
   ]
  },
  {
   "cell_type": "code",
   "execution_count": 151,
   "metadata": {},
   "outputs": [
    {
     "name": "stdout",
     "output_type": "stream",
     "text": [
      "The r-squared is: 0.4262348211578426\n"
     ]
    },
    {
     "data": {
      "image/png": "[encoded data removed]",
      "text/plain": [
       "<Figure size 432x288 with 1 Axes>"
      ]
     },
     "metadata": {
      "needs_background": "light"
     },
     "output_type": "display_data"
    }
   ],
   "source": [
    "x_values = southern_hemisphere['Lat']\n",
    "y_values = southern_hemisphere['Max Temp']\n",
    "(slope, intercept, rvalue, pvalue, stderr) = linregress(x_values, y_values)\n",
    "regress_values = x_values * slope + intercept\n",
    "line_eq = \"y = \" + str(round(slope,2)) + \"x + \" + str(round(intercept,2))\n",
    "plt.scatter(x_values,y_values)\n",
    "plt.plot(x_values,regress_values,\"r-\")\n",
    "plt.annotate(line_eq,(-30,287),fontsize=15,color=\"red\")\n",
    "plt.xlabel('Latitude')\n",
    "plt.ylabel('Max Temp')\n",
    "print(f\"The r-squared is: {rvalue**2}\")\n",
    "plt.savefig(\"../Images/linear_regression_southern_maxTemp_vs_Lat.png\")\n",
    "plt.show()"
   ]
  },
  {
   "cell_type": "markdown",
   "metadata": {},
   "source": [
    "####  Northern Hemisphere - Humidity (%) vs. Latitude Linear Regression"
   ]
  },
  {
   "cell_type": "code",
   "execution_count": 149,
   "metadata": {},
   "outputs": [
    {
     "name": "stdout",
     "output_type": "stream",
     "text": [
      "The r-squared is: 0.06880698910691488\n"
     ]
    },
    {
     "data": {
      "image/png": "[encoded data removed]",
      "text/plain": [
       "<Figure size 432x288 with 1 Axes>"
      ]
     },
     "metadata": {
      "needs_background": "light"
     },
     "output_type": "display_data"
    }
   ],
   "source": [
    "x_values = northern_hemisphere['Lat']\n",
    "y_values = northern_hemisphere['Humidity']\n",
    "(slope, intercept, rvalue, pvalue, stderr) = linregress(x_values, y_values)\n",
    "regress_values = x_values * slope + intercept\n",
    "line_eq = \"y = \" + str(round(slope,2)) + \"x + \" + str(round(intercept,2))\n",
    "plt.scatter(x_values,y_values)\n",
    "plt.plot(x_values,regress_values,\"r-\")\n",
    "plt.annotate(line_eq,(20,40),fontsize=15,color=\"red\")\n",
    "plt.xlabel('Latitude')\n",
    "plt.ylabel('Humidity')\n",
    "print(f\"The r-squared is: {rvalue**2}\")\n",
    "plt.savefig(\"../Images/linear_regression_northern_humidity_vs_Lat.png\")\n",
    "plt.show()"
   ]
  },
  {
   "cell_type": "markdown",
   "metadata": {},
   "source": [
    "####  Southern Hemisphere - Humidity (%) vs. Latitude Linear Regression"
   ]
  },
  {
   "cell_type": "code",
   "execution_count": 147,
   "metadata": {},
   "outputs": [
    {
     "name": "stdout",
     "output_type": "stream",
     "text": [
      "The r-squared is: 0.050928624116245075\n"
     ]
    },
    {
     "data": {
      "image/png": "[encoded data removed]",
      "text/plain": [
       "<Figure size 432x288 with 1 Axes>"
      ]
     },
     "metadata": {
      "needs_background": "light"
     },
     "output_type": "display_data"
    }
   ],
   "source": [
    "x_values = southern_hemisphere['Lat']\n",
    "y_values = southern_hemisphere['Humidity']\n",
    "(slope, intercept, rvalue, pvalue, stderr) = linregress(x_values, y_values)\n",
    "regress_values = x_values * slope + intercept\n",
    "line_eq = \"y = \" + str(round(slope,2)) + \"x + \" + str(round(intercept,2))\n",
    "plt.scatter(x_values,y_values)\n",
    "plt.plot(x_values,regress_values,\"r-\")\n",
    "plt.annotate(line_eq,(-40,40),fontsize=15,color=\"red\")\n",
    "plt.xlabel('Latitude')\n",
    "plt.ylabel('Humidity')\n",
    "print(f\"The r-squared is: {rvalue**2}\")\n",
    "plt.savefig(\"../Images/linear_regression_southern_humidity_vs_Lat.png\")\n",
    "plt.show()"
   ]
  },
  {
   "cell_type": "markdown",
   "metadata": {},
   "source": [
    "####  Northern Hemisphere - Cloudiness (%) vs. Latitude Linear Regression"
   ]
  },
  {
   "cell_type": "code",
   "execution_count": 145,
   "metadata": {},
   "outputs": [
    {
     "name": "stdout",
     "output_type": "stream",
     "text": [
      "The r-squared is: 0.03324729880636708\n"
     ]
    },
    {
     "data": {
      "image/png": "[encoded data removed]",
      "text/plain": [
       "<Figure size 432x288 with 1 Axes>"
      ]
     },
     "metadata": {
      "needs_background": "light"
     },
     "output_type": "display_data"
    }
   ],
   "source": [
    "x_values = northern_hemisphere['Lat']\n",
    "y_values = northern_hemisphere['Cloudiness']\n",
    "(slope, intercept, rvalue, pvalue, stderr) = linregress(x_values, y_values)\n",
    "regress_values = x_values * slope + intercept\n",
    "line_eq = \"y = \" + str(round(slope,2)) + \"x + \" + str(round(intercept,2))\n",
    "plt.scatter(x_values,y_values)\n",
    "plt.plot(x_values,regress_values,\"r-\")\n",
    "plt.annotate(line_eq,(30,75),fontsize=15,color=\"red\")\n",
    "plt.xlabel('Latitude')\n",
    "plt.ylabel('Cloudiness')\n",
    "print(f\"The r-squared is: {rvalue**2}\")\n",
    "plt.savefig(\"../Images/linear_regression_northern_cloudiness_vs_Lat.png\")\n",
    "plt.show()"
   ]
  },
  {
   "cell_type": "markdown",
   "metadata": {},
   "source": [
    "####  Southern Hemisphere - Cloudiness (%) vs. Latitude Linear Regression"
   ]
  },
  {
   "cell_type": "code",
   "execution_count": 144,
   "metadata": {},
   "outputs": [
    {
     "name": "stdout",
     "output_type": "stream",
     "text": [
      "The r-squared is: 0.06920065433679412\n"
     ]
    },
    {
     "data": {
      "image/png": "[encoded data removed]",
      "text/plain": [
       "<Figure size 432x288 with 1 Axes>"
      ]
     },
     "metadata": {
      "needs_background": "light"
     },
     "output_type": "display_data"
    }
   ],
   "source": [
    "x_values = southern_hemisphere['Lat']\n",
    "y_values = southern_hemisphere['Cloudiness']\n",
    "(slope, intercept, rvalue, pvalue, stderr) = linregress(x_values, y_values)\n",
    "regress_values = x_values * slope + intercept\n",
    "line_eq = \"y = \" + str(round(slope,2)) + \"x + \" + str(round(intercept,2))\n",
    "plt.scatter(x_values,y_values)\n",
    "plt.plot(x_values,regress_values,\"r-\")\n",
    "plt.annotate(line_eq,(-40,20),fontsize=15,color=\"red\")\n",
    "plt.xlabel('Latitude')\n",
    "plt.ylabel('Cloudiness')\n",
    "print(f\"The r-squared is: {rvalue**2}\")\n",
    "plt.savefig(\"../Images/linear_regression_southern_cloudiness_vs_Lat.png\")\n",
    "plt.show()"
   ]
  },
  {
   "cell_type": "markdown",
   "metadata": {},
   "source": [
    "####  Northern Hemisphere - Wind Speed (mph) vs. Latitude Linear Regression"
   ]
  },
  {
   "cell_type": "code",
   "execution_count": 142,
   "metadata": {},
   "outputs": [
    {
     "name": "stdout",
     "output_type": "stream",
     "text": [
      "The r-squared is: 0.006758279394134903\n"
     ]
    },
    {
     "data": {
      "image/png": "[encoded data removed]",
      "text/plain": [
       "<Figure size 432x288 with 1 Axes>"
      ]
     },
     "metadata": {
      "needs_background": "light"
     },
     "output_type": "display_data"
    }
   ],
   "source": [
    "x_values = northern_hemisphere['Lat']\n",
    "y_values = northern_hemisphere['Wind Speed']\n",
    "(slope, intercept, rvalue, pvalue, stderr) = linregress(x_values, y_values)\n",
    "regress_values = x_values * slope + intercept\n",
    "line_eq = \"y = \" + str(round(slope,2)) + \"x + \" + str(round(intercept,2))\n",
    "plt.scatter(x_values,y_values)\n",
    "plt.plot(x_values,regress_values,\"r-\")\n",
    "plt.annotate(line_eq,(8,14),fontsize=15,color=\"red\")\n",
    "plt.xlabel('Latitude')\n",
    "plt.ylabel('Wind Speed')\n",
    "print(f\"The r-squared is: {rvalue**2}\")\n",
    "plt.savefig(\"../Images/linear_regression_northern_windSpeed_vs_Lat.png\")\n",
    "plt.show()"
   ]
  },
  {
   "cell_type": "markdown",
   "metadata": {},
   "source": [
    "####  Southern Hemisphere - Wind Speed (mph) vs. Latitude Linear Regression"
   ]
  },
  {
   "cell_type": "code",
   "execution_count": 140,
   "metadata": {},
   "outputs": [
    {
     "name": "stdout",
     "output_type": "stream",
     "text": [
      "The r-squared is: 0.023149990643052887\n"
     ]
    },
    {
     "data": {
      "image/png": "[encoded data removed]",
      "text/plain": [
       "<Figure size 432x288 with 1 Axes>"
      ]
     },
     "metadata": {
      "needs_background": "light"
     },
     "output_type": "display_data"
    }
   ],
   "source": [
    "x_values = southern_hemisphere['Lat']\n",
    "y_values = southern_hemisphere['Wind Speed']\n",
    "(slope, intercept, rvalue, pvalue, stderr) = linregress(x_values, y_values)\n",
    "regress_values = x_values * slope + intercept\n",
    "line_eq = \"y = \" + str(round(slope,2)) + \"x + \" + str(round(intercept,2))\n",
    "plt.scatter(x_values,y_values)\n",
    "plt.plot(x_values,regress_values,\"r-\")\n",
    "plt.annotate(line_eq,(-50,8),fontsize=15,color=\"red\")\n",
    "plt.xlabel('Latitude')\n",
    "plt.ylabel('Wind Speed')\n",
    "print(f\"The r-squared is: {rvalue**2}\")\n",
    "plt.savefig(\"../Images/linear_regression_southern_windSpeed_vs_Lat.png\")\n",
    "plt.show()"
   ]
  },
  {
   "cell_type": "code",
   "execution_count": null,
   "metadata": {},
   "outputs": [],
   "source": []
  }
 ],
 "metadata": {
  "anaconda-cloud": {},
  "kernel_info": {
   "name": "python3"
  },
  "kernelspec": {
   "display_name": "Python 3",
   "language": "python",
   "name": "python3"
  },
  "language_info": {
   "codemirror_mode": {
    "name": "ipython",
    "version": 3
   },
   "file_extension": ".py",
   "mimetype": "text/x-python",
   "name": "python",
   "nbconvert_exporter": "python",
   "pygments_lexer": "ipython3",
   "version": "3.8.5"
  },
  "latex_envs": {
   "LaTeX_envs_menu_present": true,
   "autoclose": false,
   "autocomplete": true,
   "bibliofile": "biblio.bib",
   "cite_by": "apalike",
   "current_citInitial": 1,
   "eqLabelWithNumbers": true,
   "eqNumInitial": 1,
   "hotkeys": {
    "equation": "Ctrl-E",
    "itemize": "Ctrl-I"
   },
   "labels_anchors": false,
   "latex_user_defs": false,
   "report_style_numbering": false,
   "user_envs_cfg": false
  },
  "nteract": {
   "version": "0.12.3"
  }
 },
 "nbformat": 4,
 "nbformat_minor": 2
}
